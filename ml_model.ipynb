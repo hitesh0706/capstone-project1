{
 "cells": [
  {
   "cell_type": "code",
   "execution_count": 1,
   "metadata": {},
   "outputs": [],
   "source": [
    "'''\n",
    "Model aims to take input bottlenecks, append them together and apply \n",
    "machine learning models\n",
    "\n",
    "'''\n",
    "\n",
    "## input reading data\n",
    "#####Automation\n",
    "import numpy as np\n",
    "import pandas as pd\n",
    "import matplotlib.pyplot as plt\n",
    "import cv2\n",
    "from os import listdir\n",
    "from os.path import isfile, join\n",
    "import os\n",
    "from sklearn.cross_validation import train_test_split\n",
    "from sklearn.metrics import accuracy_score, f1_score, precision_score, recall_score, classification_report, confusion_matrix\n",
    "from sklearn import svm\n",
    "import time\n",
    "import pickle\n",
    "import glob\n"
   ]
  },
  {
   "cell_type": "code",
   "execution_count": 2,
   "metadata": {},
   "outputs": [],
   "source": [
    "file_list = []\n",
    "for filename in glob.iglob('/home/hitesh/Downloads/capstone/bottleneck/**/*.txt'):\n",
    "    file_list.append(filename)\n",
    "    "
   ]
  },
  {
   "cell_type": "code",
   "execution_count": 2,
   "metadata": {},
   "outputs": [],
   "source": [
    "# if using csv file\n",
    "#result_array = pd.read_csv('/home/hitesh/Downloads/capstone/saveD_csv_data.csv')\n",
    "#result_array = result_array.drop('Unnamed: 0', axis= 1)\n"
   ]
  },
  {
   "cell_type": "code",
   "execution_count": 5,
   "metadata": {},
   "outputs": [],
   "source": [
    "## retrieving data from bottle necks\n",
    "\n",
    "# read data and put it in  an array\n",
    "result_array = np.empty((0, 2048))\n",
    "\n",
    "for i in file_list:\n",
    "    data1 = pd.read_csv(i, header= None, sep= ',' )\n",
    "    result_array = np.append(result_array,data1,axis= 0)\n",
    "        \n",
    "        \n"
   ]
  },
  {
   "cell_type": "code",
   "execution_count": 6,
   "metadata": {},
   "outputs": [
    {
     "data": {
      "text/plain": [
       "(10142, 2048)"
      ]
     },
     "execution_count": 6,
     "metadata": {},
     "output_type": "execute_result"
    }
   ],
   "source": [
    "\n",
    "result_array.shape"
   ]
  },
  {
   "cell_type": "code",
   "execution_count": 13,
   "metadata": {
    "scrolled": false
   },
   "outputs": [],
   "source": [
    "##labels data\n",
    "\n",
    "sum_p = 0 \n",
    "result_labels = np.empty((0, 1))\n",
    "location = '/home/hitesh/Downloads/capstone/bottleneck'\n",
    "folder_list = listdir(location)\n",
    "for folder in folder_list :\n",
    "    folder_loc = location+ '/'+folder\n",
    "    a_length = listdir(folder_loc)\n",
    "    p_count_lenth = len(a_length)\n",
    "    sum_p = sum_p + p_count_lenth\n",
    "\n",
    "    label_repeat = np.repeat(folder,p_count_lenth).reshape(-1,1)\n",
    "    result_labels = np.append(result_labels,label_repeat, axis= 0)\n",
    "    \n",
    "\n",
    "\n",
    "    "
   ]
  },
  {
   "cell_type": "code",
   "execution_count": 14,
   "metadata": {},
   "outputs": [
    {
     "data": {
      "text/plain": [
       "(10142, 1)"
      ]
     },
     "execution_count": 14,
     "metadata": {},
     "output_type": "execute_result"
    }
   ],
   "source": [
    "result_labels.shape"
   ]
  },
  {
   "cell_type": "code",
   "execution_count": 16,
   "metadata": {},
   "outputs": [],
   "source": [
    "##train test split\n",
    "\n",
    "X_train , X_test , y_train, y_test = train_test_split(result_array,result_labels,train_size = 0.8,test_size = 0.2, random_state = 6)"
   ]
  },
  {
   "cell_type": "code",
   "execution_count": 17,
   "metadata": {},
   "outputs": [
    {
     "name": "stderr",
     "output_type": "stream",
     "text": [
      "/home/hitesh/anaconda/lib/python2.7/site-packages/sklearn/svm/base.py:514: DataConversionWarning: A column-vector y was passed when a 1d array was expected. Please change the shape of y to (n_samples, ), for example using ravel().\n",
      "  y_ = column_or_1d(y, warn=True)\n"
     ]
    },
    {
     "name": "stdout",
     "output_type": "stream",
     "text": [
      "0.9181560458523358\n",
      "0.897486446525382\n",
      "334.669705868\n"
     ]
    }
   ],
   "source": [
    "###svm model\n",
    "\n",
    "start = time.time()\n",
    "model = svm.SVC()\n",
    "model.fit(X_train , y_train)\n",
    "print model.score(X_train,y_train)\n",
    "print model.score(X_test,y_test)\n",
    "stop = time.time()\n",
    "print(stop - start)\n",
    "\n",
    "\n"
   ]
  },
  {
   "cell_type": "code",
   "execution_count": 18,
   "metadata": {},
   "outputs": [
    {
     "name": "stdout",
     "output_type": "stream",
     "text": [
      "[[34  0  0 ...  0  0  0]\n",
      " [ 0 18  0 ...  0  0  0]\n",
      " [ 0  0 18 ...  0  1  0]\n",
      " ...\n",
      " [ 0  0  0 ... 13  0  0]\n",
      " [ 0  0  0 ...  0 11  0]\n",
      " [ 0  0  0 ...  0  0 14]]\n",
      "0.8974109628845554\n"
     ]
    },
    {
     "name": "stderr",
     "output_type": "stream",
     "text": [
      "/home/hitesh/anaconda/lib/python2.7/site-packages/sklearn/metrics/classification.py:1074: UndefinedMetricWarning: Precision is ill-defined and being set to 0.0 in labels with no predicted samples.\n",
      "  'precision', 'predicted', average, warn_for)\n"
     ]
    }
   ],
   "source": [
    "\n",
    "# SVM model prediction analysis\n",
    "\n",
    "y_pred_svm = model.predict(X_test)\n",
    "\n",
    "print confusion_matrix(y_pred_svm,y_test)\n",
    "\n",
    "print precision_score(y_test, y_pred_svm, average=\"macro\")\n",
    "\n",
    "   "
   ]
  },
  {
   "cell_type": "code",
   "execution_count": 19,
   "metadata": {},
   "outputs": [
    {
     "name": "stderr",
     "output_type": "stream",
     "text": [
      "/home/hitesh/anaconda/lib/python2.7/site-packages/sklearn/utils/validation.py:515: DataConversionWarning: A column-vector y was passed when a 1d array was expected. Please change the shape of y to (n_samples, ), for example using ravel().\n",
      "  y = column_or_1d(y, warn=True)\n"
     ]
    },
    {
     "name": "stdout",
     "output_type": "stream",
     "text": [
      "0.9264143966473561\n",
      "0.8605224248398226\n"
     ]
    }
   ],
   "source": [
    "##naive bayes model\n",
    "from sklearn.naive_bayes import GaussianNB\n",
    "nb = GaussianNB()\n",
    "nb.fit(X_train , y_train)\n",
    "print nb.score(X_train,y_train)\n",
    "print nb.score(X_test,y_test)\n"
   ]
  },
  {
   "cell_type": "code",
   "execution_count": 20,
   "metadata": {},
   "outputs": [
    {
     "name": "stdout",
     "output_type": "stream",
     "text": [
      "[[32  0  0 ...  0  0  0]\n",
      " [ 0 16  0 ...  0  0  0]\n",
      " [ 0  0 16 ...  0  1  0]\n",
      " ...\n",
      " [ 0  0  0 ... 14  0  0]\n",
      " [ 0  0  0 ...  0  9  0]\n",
      " [ 0  0  0 ...  0  0 12]]\n",
      "0.8738915104288661\n"
     ]
    }
   ],
   "source": [
    "# naive bayes\n",
    "\n",
    "y_pred_naive = nb.predict(X_test)\n",
    "\n",
    "print confusion_matrix(y_pred_naive,y_test)\n",
    "\n",
    "print precision_score(y_test, y_pred_naive, average=\"macro\")\n"
   ]
  },
  {
   "cell_type": "code",
   "execution_count": 113,
   "metadata": {},
   "outputs": [],
   "source": [
    "# save the model to disk\n",
    "filename = 'finalized_model.sav'\n",
    "pickle.dump(model, open(filename, 'wb'))\n",
    " \n",
    "# some time later...\n",
    " \n"
   ]
  },
  {
   "cell_type": "code",
   "execution_count": 115,
   "metadata": {},
   "outputs": [
    {
     "name": "stdout",
     "output_type": "stream",
     "text": [
      "0.897486446525382\n"
     ]
    }
   ],
   "source": [
    "##loading moddel\n",
    "\n",
    "loaded_model = pickle.load(open(filename, 'rb'))\n",
    "result = loaded_model.score(X_test, y_test)\n",
    "print(result)"
   ]
  },
  {
   "cell_type": "code",
   "execution_count": 117,
   "metadata": {},
   "outputs": [],
   "source": [
    "##write csv data for future purposes\n",
    "result_array2 = pd.DataFrame(result_array)\n",
    "result_array2.to_csv(\"saveD_csv_data.csv\")"
   ]
  },
  {
   "cell_type": "code",
   "execution_count": 118,
   "metadata": {},
   "outputs": [
    {
     "data": {
      "text/plain": [
       "u'/home/hitesh'"
      ]
     },
     "execution_count": 118,
     "metadata": {},
     "output_type": "execute_result"
    }
   ],
   "source": []
  }
 ],
 "metadata": {
  "anaconda-cloud": {},
  "kernelspec": {
   "display_name": "Python [default]",
   "language": "python",
   "name": "python2"
  },
  "language_info": {
   "codemirror_mode": {
    "name": "ipython",
    "version": 2
   },
   "file_extension": ".py",
   "mimetype": "text/x-python",
   "name": "python",
   "nbconvert_exporter": "python",
   "pygments_lexer": "ipython2",
   "version": "2.7.12"
  }
 },
 "nbformat": 4,
 "nbformat_minor": 2
}
